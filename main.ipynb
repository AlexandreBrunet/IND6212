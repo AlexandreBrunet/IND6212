{
 "cells": [
  {
   "cell_type": "code",
   "execution_count": 3,
   "metadata": {},
   "outputs": [
    {
     "name": "stdout",
     "output_type": "stream",
     "text": [
      "      id_poursuite  business_id      date  \\\n",
      "0             3976        15888  20161026   \n",
      "1             6760       115912  20190530   \n",
      "2             8596       108124  20220411   \n",
      "3             7594       117214  20200204   \n",
      "4             7229       116998  20191029   \n",
      "...            ...          ...       ...   \n",
      "7101          6708        21508  20190327   \n",
      "7102          6080       104634  20181123   \n",
      "7103          8571       121781  20220426   \n",
      "7104          8233       121781  20210819   \n",
      "7105          5143       111742  20180221   \n",
      "\n",
      "                                            description  \\\n",
      "0     Les appareils utilisés à la préparation de la ...   \n",
      "1     Les appareils utilisés à la préparation de la ...   \n",
      "2     Les viandes ou aliments carnés congelés soumis...   \n",
      "3     Les personnes affectées à la préparation des p...   \n",
      "4     Les personnes affectées à la préparation des p...   \n",
      "...                                                 ...   \n",
      "7101  Dans un local, une aire ou un véhicule utilisé...   \n",
      "7102  Dans un local, une aire ou un véhicule utilisé...   \n",
      "7103  Dans un local, une aire ou un véhicule utilisé...   \n",
      "7104  Dans un local, une aire ou un véhicule utilisé...   \n",
      "7105  Le permis de catégorie «préparation générale» ...   \n",
      "\n",
      "                                                adresse  date_jugement  \\\n",
      "0            1006 Boul. Saint-Laurent, Montréal, Québec       20180209   \n",
      "1           4745 Rue Jean-Talon Est, St-Léonard, Québec       20190627   \n",
      "2     4850 Boul. des Sources, Dollard-des-Ormeaux, Q...       20240110   \n",
      "3                 5248 Ch. Queen-Mary, Montréal, Québec       20210506   \n",
      "4                     1397 Av. Dollard, LaSalle, Québec       20191209   \n",
      "...                                                 ...            ...   \n",
      "7101                  2851 Rue Allard, Montréal, Québec       20190403   \n",
      "7102                     11515 4e Av., Montréal, Québec       20191016   \n",
      "7103      2277A Boul. Marcel-Laurin, St-Laurent, Québec       20230222   \n",
      "7104      2277A Boul. Marcel-Laurin, St-Laurent, Québec       20220117   \n",
      "7105  3702 Boul. Saint-Jean, Dollard-des-Ormeaux, Qu...       20190916   \n",
      "\n",
      "                     etablissement  montant             proprietaire  \\\n",
      "0                G & D SUPERMARCHE      300    9214-7842 QUEBEC INC.   \n",
      "1          RESTAURANT TGV ISTANBUL      250    9356-3302 QUEBEC INC.   \n",
      "2                 MARCHÉ SHENG TAI     1000    9286-4206 QUEBEC INC.   \n",
      "3               BUFFALO BILL WINGS      250    9366-2427 QUEBEC INC.   \n",
      "4          BOUCHERIE LA PREFERENCE      250      3680649 CANADA INC.   \n",
      "...                            ...      ...                      ...   \n",
      "7101                DILALLO & FILS      250  L. DILALLO ET FILS INC.   \n",
      "7102  BOUCHERIE CHARCUTERIE BENITO      500    9056-2307 QUEBEC INC.   \n",
      "7103                MARCHE A TUNIS      500      MARCHE A TUNIS INC.   \n",
      "7104                MARCHE A TUNIS      250      MARCHE A TUNIS INC.   \n",
      "7105              SAINT-JEAN BAGEL      250    9330-1547 QUEBEC INC.   \n",
      "\n",
      "                    ville                         statut  date_statut  \\\n",
      "0                Montréal  Fermé changement d'exploitant     20180202   \n",
      "1              St-Léonard  Fermé changement d'exploitant     20210622   \n",
      "2     Dollard-des-Ormeaux                         Ouvert     20140530   \n",
      "3                Montréal  Fermé changement d'exploitant     20201127   \n",
      "4                 LaSalle                         Ouvert     20180110   \n",
      "...                   ...                            ...          ...   \n",
      "7101             Montréal                         Ouvert     19930126   \n",
      "7102             Montréal  Fermé changement d'exploitant     20210510   \n",
      "7103           St-Laurent                         Ouvert     20200625   \n",
      "7104           St-Laurent                         Ouvert     20200625   \n",
      "7105  Dollard-des-Ormeaux                          Fermé     20190301   \n",
      "\n",
      "                      categorie  \n",
      "0            Boucherie-épicerie  \n",
      "1                    Restaurant  \n",
      "2                   Supermarché  \n",
      "3     Restaurant service rapide  \n",
      "4            Boucherie-épicerie  \n",
      "...                         ...  \n",
      "7101                 Restaurant  \n",
      "7102                Charcuterie  \n",
      "7103  Épicerie avec préparation  \n",
      "7104  Épicerie avec préparation  \n",
      "7105                Boulangerie  \n",
      "\n",
      "[7106 rows x 13 columns]\n"
     ]
    },
    {
     "ename": "AttributeError",
     "evalue": "'NoneType' object has no attribute 'head'",
     "output_type": "error",
     "traceback": [
      "\u001b[0;31m---------------------------------------------------------------------------\u001b[0m",
      "\u001b[0;31mAttributeError\u001b[0m                            Traceback (most recent call last)",
      "Cell \u001b[0;32mIn[3], line 4\u001b[0m\n\u001b[1;32m      1\u001b[0m \u001b[38;5;28;01mimport\u001b[39;00m \u001b[38;5;21;01mpandas\u001b[39;00m \u001b[38;5;28;01mas\u001b[39;00m \u001b[38;5;21;01mpd\u001b[39;00m\n\u001b[1;32m      3\u001b[0m csv_file \u001b[38;5;241m=\u001b[39m pd\u001b[38;5;241m.\u001b[39mread_csv(\u001b[38;5;124m'\u001b[39m\u001b[38;5;124m./data/violations.csv\u001b[39m\u001b[38;5;124m'\u001b[39m)\n\u001b[0;32m----> 4\u001b[0m \u001b[38;5;28;43mprint\u001b[39;49m\u001b[43m(\u001b[49m\u001b[43mcsv_file\u001b[49m\u001b[43m)\u001b[49m\u001b[38;5;241;43m.\u001b[39;49m\u001b[43mhead\u001b[49m(\u001b[38;5;241m10\u001b[39m)\n",
      "\u001b[0;31mAttributeError\u001b[0m: 'NoneType' object has no attribute 'head'"
     ]
    }
   ],
   "source": [
    "import pandas as pd\n",
    "\n",
    "csv_file = pd.read_csv('./data/violations.csv')\n",
    "print(csv_file).head(10)"
   ]
  }
 ],
 "metadata": {
  "kernelspec": {
   "display_name": "Python 3",
   "language": "python",
   "name": "python3"
  },
  "language_info": {
   "codemirror_mode": {
    "name": "ipython",
    "version": 3
   },
   "file_extension": ".py",
   "mimetype": "text/x-python",
   "name": "python",
   "nbconvert_exporter": "python",
   "pygments_lexer": "ipython3",
   "version": "3.9.4"
  }
 },
 "nbformat": 4,
 "nbformat_minor": 2
}
